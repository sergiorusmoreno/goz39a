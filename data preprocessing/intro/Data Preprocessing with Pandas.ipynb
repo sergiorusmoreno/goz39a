{
 "cells": [
  {
   "cell_type": "markdown",
   "metadata": {
    "id": "0ms_l2l5x-pO"
   },
   "source": [
    "# Data Preprocessing with Pandas\n",
    "Preprocessing is the process of doing a pre-analysis of data, in order to transform them into a standard and normalized format.\n",
    "Preprocessing involves the following aspects:\n",
    "- missing values\n",
    "- data formatting\n",
    "- data standardization\n",
    "- data normalization\n",
    "- data binning\n",
    "\n",
    "References : \n",
    "- https://towardsdatascience.com/data-preprocessing-with-python-pandas-part-1-missing-data-45e76b781993\n",
    "- https://towardsdatascience.com/data-processing-with-python-pandas-part-2-data-formatting-710c2eafa426\n",
    "- https://towardsdatascience.com/data-preprocessing-with-python-pandas-part-3-normalisation-5b5392d27673\n"
   ]
  },
  {
   "cell_type": "markdown",
   "metadata": {
    "id": "Q-MkauFayjBk"
   },
   "source": [
    "## Missing Values\n",
    "The `hepatitis` dataset was downloaded from [openML](https://www.openml.org/d/55)\n",
    "\n"
   ]
  },
  {
   "cell_type": "code",
   "execution_count": 7,
   "metadata": {
    "executionInfo": {
     "elapsed": 629,
     "status": "ok",
     "timestamp": 1607239571827,
     "user": {
      "displayName": "Jan De Spiegeleer",
      "photoUrl": "https://lh3.googleusercontent.com/a-/AOh14Ggxxb9SxBqAv_r35BXg4rQuvrALa7N1_RqDSbwQUw=s64",
      "userId": "15176895267494237817"
     },
     "user_tz": -60
    },
    "id": "k4HZUTrHzfBR"
   },
   "outputs": [],
   "source": [
    "import pandas as pd"
   ]
  },
  {
   "cell_type": "code",
   "execution_count": 8,
   "metadata": {
    "colab": {
     "base_uri": "https://localhost:8080/",
     "height": 379
    },
    "executionInfo": {
     "elapsed": 1545,
     "status": "ok",
     "timestamp": 1607239572751,
     "user": {
      "displayName": "Jan De Spiegeleer",
      "photoUrl": "https://lh3.googleusercontent.com/a-/AOh14Ggxxb9SxBqAv_r35BXg4rQuvrALa7N1_RqDSbwQUw=s64",
      "userId": "15176895267494237817"
     },
     "user_tz": -60
    },
    "id": "w1eYiaof0oKW",
    "outputId": "f0243ed7-4c7a-4e95-aa8e-a8f025f345f7"
   },
   "outputs": [
    {
     "data": {
      "text/html": [
       "<div>\n",
       "<style scoped>\n",
       "    .dataframe tbody tr th:only-of-type {\n",
       "        vertical-align: middle;\n",
       "    }\n",
       "\n",
       "    .dataframe tbody tr th {\n",
       "        vertical-align: top;\n",
       "    }\n",
       "\n",
       "    .dataframe thead th {\n",
       "        text-align: right;\n",
       "    }\n",
       "</style>\n",
       "<table border=\"1\" class=\"dataframe\">\n",
       "  <thead>\n",
       "    <tr style=\"text-align: right;\">\n",
       "      <th></th>\n",
       "      <th>age</th>\n",
       "      <th>sex</th>\n",
       "      <th>steroid</th>\n",
       "      <th>antivirals</th>\n",
       "      <th>fatigue</th>\n",
       "      <th>malaise</th>\n",
       "      <th>anorexia</th>\n",
       "      <th>liver_big</th>\n",
       "      <th>liver_firm</th>\n",
       "      <th>spleen_palpable</th>\n",
       "      <th>spiders</th>\n",
       "      <th>ascites</th>\n",
       "      <th>varices</th>\n",
       "      <th>bilirubin</th>\n",
       "      <th>alk_phosphate</th>\n",
       "      <th>sgot</th>\n",
       "      <th>albumin</th>\n",
       "      <th>protime</th>\n",
       "      <th>histology</th>\n",
       "      <th>class</th>\n",
       "    </tr>\n",
       "  </thead>\n",
       "  <tbody>\n",
       "    <tr>\n",
       "      <th>0</th>\n",
       "      <td>30</td>\n",
       "      <td>male</td>\n",
       "      <td>False</td>\n",
       "      <td>False</td>\n",
       "      <td>False</td>\n",
       "      <td>False</td>\n",
       "      <td>False</td>\n",
       "      <td>False</td>\n",
       "      <td>False</td>\n",
       "      <td>False</td>\n",
       "      <td>False</td>\n",
       "      <td>False</td>\n",
       "      <td>False</td>\n",
       "      <td>1.0</td>\n",
       "      <td>85.0</td>\n",
       "      <td>18.0</td>\n",
       "      <td>4.0</td>\n",
       "      <td>NaN</td>\n",
       "      <td>False</td>\n",
       "      <td>live</td>\n",
       "    </tr>\n",
       "    <tr>\n",
       "      <th>1</th>\n",
       "      <td>50</td>\n",
       "      <td>female</td>\n",
       "      <td>False</td>\n",
       "      <td>False</td>\n",
       "      <td>True</td>\n",
       "      <td>False</td>\n",
       "      <td>False</td>\n",
       "      <td>False</td>\n",
       "      <td>False</td>\n",
       "      <td>False</td>\n",
       "      <td>False</td>\n",
       "      <td>False</td>\n",
       "      <td>False</td>\n",
       "      <td>0.9</td>\n",
       "      <td>135.0</td>\n",
       "      <td>42.0</td>\n",
       "      <td>3.5</td>\n",
       "      <td>NaN</td>\n",
       "      <td>False</td>\n",
       "      <td>live</td>\n",
       "    </tr>\n",
       "    <tr>\n",
       "      <th>2</th>\n",
       "      <td>78</td>\n",
       "      <td>female</td>\n",
       "      <td>True</td>\n",
       "      <td>False</td>\n",
       "      <td>True</td>\n",
       "      <td>False</td>\n",
       "      <td>False</td>\n",
       "      <td>True</td>\n",
       "      <td>False</td>\n",
       "      <td>False</td>\n",
       "      <td>False</td>\n",
       "      <td>False</td>\n",
       "      <td>False</td>\n",
       "      <td>0.7</td>\n",
       "      <td>96.0</td>\n",
       "      <td>32.0</td>\n",
       "      <td>4.0</td>\n",
       "      <td>NaN</td>\n",
       "      <td>False</td>\n",
       "      <td>live</td>\n",
       "    </tr>\n",
       "    <tr>\n",
       "      <th>3</th>\n",
       "      <td>31</td>\n",
       "      <td>female</td>\n",
       "      <td>NaN</td>\n",
       "      <td>True</td>\n",
       "      <td>False</td>\n",
       "      <td>False</td>\n",
       "      <td>False</td>\n",
       "      <td>True</td>\n",
       "      <td>False</td>\n",
       "      <td>False</td>\n",
       "      <td>False</td>\n",
       "      <td>False</td>\n",
       "      <td>False</td>\n",
       "      <td>0.7</td>\n",
       "      <td>46.0</td>\n",
       "      <td>52.0</td>\n",
       "      <td>4.0</td>\n",
       "      <td>80.0</td>\n",
       "      <td>False</td>\n",
       "      <td>live</td>\n",
       "    </tr>\n",
       "    <tr>\n",
       "      <th>4</th>\n",
       "      <td>34</td>\n",
       "      <td>female</td>\n",
       "      <td>True</td>\n",
       "      <td>False</td>\n",
       "      <td>False</td>\n",
       "      <td>False</td>\n",
       "      <td>False</td>\n",
       "      <td>True</td>\n",
       "      <td>False</td>\n",
       "      <td>False</td>\n",
       "      <td>False</td>\n",
       "      <td>False</td>\n",
       "      <td>False</td>\n",
       "      <td>1.0</td>\n",
       "      <td>NaN</td>\n",
       "      <td>200.0</td>\n",
       "      <td>4.0</td>\n",
       "      <td>NaN</td>\n",
       "      <td>False</td>\n",
       "      <td>live</td>\n",
       "    </tr>\n",
       "    <tr>\n",
       "      <th>5</th>\n",
       "      <td>34</td>\n",
       "      <td>female</td>\n",
       "      <td>True</td>\n",
       "      <td>False</td>\n",
       "      <td>False</td>\n",
       "      <td>False</td>\n",
       "      <td>False</td>\n",
       "      <td>True</td>\n",
       "      <td>False</td>\n",
       "      <td>False</td>\n",
       "      <td>False</td>\n",
       "      <td>False</td>\n",
       "      <td>False</td>\n",
       "      <td>0.9</td>\n",
       "      <td>95.0</td>\n",
       "      <td>28.0</td>\n",
       "      <td>4.0</td>\n",
       "      <td>75.0</td>\n",
       "      <td>False</td>\n",
       "      <td>live</td>\n",
       "    </tr>\n",
       "    <tr>\n",
       "      <th>6</th>\n",
       "      <td>51</td>\n",
       "      <td>female</td>\n",
       "      <td>False</td>\n",
       "      <td>False</td>\n",
       "      <td>True</td>\n",
       "      <td>False</td>\n",
       "      <td>True</td>\n",
       "      <td>True</td>\n",
       "      <td>False</td>\n",
       "      <td>True</td>\n",
       "      <td>True</td>\n",
       "      <td>False</td>\n",
       "      <td>False</td>\n",
       "      <td>NaN</td>\n",
       "      <td>NaN</td>\n",
       "      <td>NaN</td>\n",
       "      <td>NaN</td>\n",
       "      <td>NaN</td>\n",
       "      <td>False</td>\n",
       "      <td>die</td>\n",
       "    </tr>\n",
       "    <tr>\n",
       "      <th>7</th>\n",
       "      <td>23</td>\n",
       "      <td>female</td>\n",
       "      <td>True</td>\n",
       "      <td>False</td>\n",
       "      <td>False</td>\n",
       "      <td>False</td>\n",
       "      <td>False</td>\n",
       "      <td>True</td>\n",
       "      <td>False</td>\n",
       "      <td>False</td>\n",
       "      <td>False</td>\n",
       "      <td>False</td>\n",
       "      <td>False</td>\n",
       "      <td>1.0</td>\n",
       "      <td>NaN</td>\n",
       "      <td>NaN</td>\n",
       "      <td>NaN</td>\n",
       "      <td>NaN</td>\n",
       "      <td>False</td>\n",
       "      <td>live</td>\n",
       "    </tr>\n",
       "    <tr>\n",
       "      <th>8</th>\n",
       "      <td>39</td>\n",
       "      <td>female</td>\n",
       "      <td>True</td>\n",
       "      <td>False</td>\n",
       "      <td>True</td>\n",
       "      <td>False</td>\n",
       "      <td>False</td>\n",
       "      <td>True</td>\n",
       "      <td>True</td>\n",
       "      <td>False</td>\n",
       "      <td>False</td>\n",
       "      <td>False</td>\n",
       "      <td>False</td>\n",
       "      <td>0.7</td>\n",
       "      <td>NaN</td>\n",
       "      <td>48.0</td>\n",
       "      <td>4.4</td>\n",
       "      <td>NaN</td>\n",
       "      <td>False</td>\n",
       "      <td>live</td>\n",
       "    </tr>\n",
       "    <tr>\n",
       "      <th>9</th>\n",
       "      <td>30</td>\n",
       "      <td>female</td>\n",
       "      <td>True</td>\n",
       "      <td>False</td>\n",
       "      <td>False</td>\n",
       "      <td>False</td>\n",
       "      <td>False</td>\n",
       "      <td>True</td>\n",
       "      <td>False</td>\n",
       "      <td>False</td>\n",
       "      <td>False</td>\n",
       "      <td>False</td>\n",
       "      <td>False</td>\n",
       "      <td>1.0</td>\n",
       "      <td>NaN</td>\n",
       "      <td>120.0</td>\n",
       "      <td>3.9</td>\n",
       "      <td>NaN</td>\n",
       "      <td>False</td>\n",
       "      <td>live</td>\n",
       "    </tr>\n",
       "    <tr>\n",
       "      <th>10</th>\n",
       "      <td>39</td>\n",
       "      <td>female</td>\n",
       "      <td>False</td>\n",
       "      <td>True</td>\n",
       "      <td>False</td>\n",
       "      <td>False</td>\n",
       "      <td>False</td>\n",
       "      <td>False</td>\n",
       "      <td>True</td>\n",
       "      <td>False</td>\n",
       "      <td>False</td>\n",
       "      <td>False</td>\n",
       "      <td>False</td>\n",
       "      <td>1.3</td>\n",
       "      <td>78.0</td>\n",
       "      <td>30.0</td>\n",
       "      <td>4.4</td>\n",
       "      <td>85.0</td>\n",
       "      <td>False</td>\n",
       "      <td>live</td>\n",
       "    </tr>\n",
       "    <tr>\n",
       "      <th>11</th>\n",
       "      <td>32</td>\n",
       "      <td>female</td>\n",
       "      <td>True</td>\n",
       "      <td>True</td>\n",
       "      <td>True</td>\n",
       "      <td>False</td>\n",
       "      <td>False</td>\n",
       "      <td>True</td>\n",
       "      <td>True</td>\n",
       "      <td>False</td>\n",
       "      <td>True</td>\n",
       "      <td>False</td>\n",
       "      <td>False</td>\n",
       "      <td>1.0</td>\n",
       "      <td>59.0</td>\n",
       "      <td>249.0</td>\n",
       "      <td>3.7</td>\n",
       "      <td>54.0</td>\n",
       "      <td>False</td>\n",
       "      <td>live</td>\n",
       "    </tr>\n",
       "    <tr>\n",
       "      <th>12</th>\n",
       "      <td>41</td>\n",
       "      <td>female</td>\n",
       "      <td>True</td>\n",
       "      <td>True</td>\n",
       "      <td>True</td>\n",
       "      <td>False</td>\n",
       "      <td>False</td>\n",
       "      <td>True</td>\n",
       "      <td>True</td>\n",
       "      <td>False</td>\n",
       "      <td>False</td>\n",
       "      <td>False</td>\n",
       "      <td>False</td>\n",
       "      <td>0.9</td>\n",
       "      <td>81.0</td>\n",
       "      <td>60.0</td>\n",
       "      <td>3.9</td>\n",
       "      <td>52.0</td>\n",
       "      <td>False</td>\n",
       "      <td>live</td>\n",
       "    </tr>\n",
       "    <tr>\n",
       "      <th>13</th>\n",
       "      <td>30</td>\n",
       "      <td>female</td>\n",
       "      <td>True</td>\n",
       "      <td>False</td>\n",
       "      <td>True</td>\n",
       "      <td>False</td>\n",
       "      <td>False</td>\n",
       "      <td>True</td>\n",
       "      <td>True</td>\n",
       "      <td>False</td>\n",
       "      <td>False</td>\n",
       "      <td>False</td>\n",
       "      <td>False</td>\n",
       "      <td>2.2</td>\n",
       "      <td>57.0</td>\n",
       "      <td>144.0</td>\n",
       "      <td>4.9</td>\n",
       "      <td>78.0</td>\n",
       "      <td>False</td>\n",
       "      <td>live</td>\n",
       "    </tr>\n",
       "    <tr>\n",
       "      <th>14</th>\n",
       "      <td>47</td>\n",
       "      <td>female</td>\n",
       "      <td>False</td>\n",
       "      <td>True</td>\n",
       "      <td>False</td>\n",
       "      <td>False</td>\n",
       "      <td>False</td>\n",
       "      <td>True</td>\n",
       "      <td>False</td>\n",
       "      <td>False</td>\n",
       "      <td>False</td>\n",
       "      <td>False</td>\n",
       "      <td>False</td>\n",
       "      <td>NaN</td>\n",
       "      <td>NaN</td>\n",
       "      <td>60.0</td>\n",
       "      <td>NaN</td>\n",
       "      <td>NaN</td>\n",
       "      <td>False</td>\n",
       "      <td>live</td>\n",
       "    </tr>\n",
       "  </tbody>\n",
       "</table>\n",
       "</div>"
      ],
      "text/plain": [
       "    age     sex steroid  antivirals fatigue malaise anorexia liver_big  \\\n",
       "0    30    male   False       False   False   False    False     False   \n",
       "1    50  female   False       False    True   False    False     False   \n",
       "2    78  female    True       False    True   False    False      True   \n",
       "3    31  female     NaN        True   False   False    False      True   \n",
       "4    34  female    True       False   False   False    False      True   \n",
       "5    34  female    True       False   False   False    False      True   \n",
       "6    51  female   False       False    True   False     True      True   \n",
       "7    23  female    True       False   False   False    False      True   \n",
       "8    39  female    True       False    True   False    False      True   \n",
       "9    30  female    True       False   False   False    False      True   \n",
       "10   39  female   False        True   False   False    False     False   \n",
       "11   32  female    True        True    True   False    False      True   \n",
       "12   41  female    True        True    True   False    False      True   \n",
       "13   30  female    True       False    True   False    False      True   \n",
       "14   47  female   False        True   False   False    False      True   \n",
       "\n",
       "   liver_firm spleen_palpable spiders ascites varices  bilirubin  \\\n",
       "0       False           False   False   False   False        1.0   \n",
       "1       False           False   False   False   False        0.9   \n",
       "2       False           False   False   False   False        0.7   \n",
       "3       False           False   False   False   False        0.7   \n",
       "4       False           False   False   False   False        1.0   \n",
       "5       False           False   False   False   False        0.9   \n",
       "6       False            True    True   False   False        NaN   \n",
       "7       False           False   False   False   False        1.0   \n",
       "8        True           False   False   False   False        0.7   \n",
       "9       False           False   False   False   False        1.0   \n",
       "10       True           False   False   False   False        1.3   \n",
       "11       True           False    True   False   False        1.0   \n",
       "12       True           False   False   False   False        0.9   \n",
       "13       True           False   False   False   False        2.2   \n",
       "14      False           False   False   False   False        NaN   \n",
       "\n",
       "    alk_phosphate   sgot  albumin  protime  histology class  \n",
       "0            85.0   18.0      4.0      NaN      False  live  \n",
       "1           135.0   42.0      3.5      NaN      False  live  \n",
       "2            96.0   32.0      4.0      NaN      False  live  \n",
       "3            46.0   52.0      4.0     80.0      False  live  \n",
       "4             NaN  200.0      4.0      NaN      False  live  \n",
       "5            95.0   28.0      4.0     75.0      False  live  \n",
       "6             NaN    NaN      NaN      NaN      False   die  \n",
       "7             NaN    NaN      NaN      NaN      False  live  \n",
       "8             NaN   48.0      4.4      NaN      False  live  \n",
       "9             NaN  120.0      3.9      NaN      False  live  \n",
       "10           78.0   30.0      4.4     85.0      False  live  \n",
       "11           59.0  249.0      3.7     54.0      False  live  \n",
       "12           81.0   60.0      3.9     52.0      False  live  \n",
       "13           57.0  144.0      4.9     78.0      False  live  \n",
       "14            NaN   60.0      NaN      NaN      False  live  "
      ]
     },
     "execution_count": 8,
     "metadata": {},
     "output_type": "execute_result"
    }
   ],
   "source": [
    "df = pd.read_csv('https://goz39a.s3.eu-central-1.amazonaws.com/hepatitis_csv.csv')\n",
    "df.head(15)\n"
   ]
  },
  {
   "cell_type": "markdown",
   "metadata": {
    "id": "xpRVl9c00qYt"
   },
   "source": [
    "We note that the dataset presents some problems. \n",
    "<br>\n",
    "For example, the column `albumin` is not available for all the rows. In some cases it presents the `NaN `value, which means that the value is missing.\n",
    "In order to check whether our dataset contains missing values, we can use the function `isna()`, which returns if an cell of the dataset if NaN or not. Then we can count how many missing values there are for each column."
   ]
  },
  {
   "cell_type": "code",
   "execution_count": 9,
   "metadata": {
    "colab": {
     "base_uri": "https://localhost:8080/"
    },
    "executionInfo": {
     "elapsed": 1537,
     "status": "ok",
     "timestamp": 1607239572752,
     "user": {
      "displayName": "Jan De Spiegeleer",
      "photoUrl": "https://lh3.googleusercontent.com/a-/AOh14Ggxxb9SxBqAv_r35BXg4rQuvrALa7N1_RqDSbwQUw=s64",
      "userId": "15176895267494237817"
     },
     "user_tz": -60
    },
    "id": "VnQs2wBn1IEx",
    "outputId": "b9dba8ed-bfcf-4de0-be02-f56546497688"
   },
   "outputs": [
    {
     "data": {
      "text/plain": [
       "age                 0\n",
       "sex                 0\n",
       "steroid             1\n",
       "antivirals          0\n",
       "fatigue             1\n",
       "malaise             1\n",
       "anorexia            1\n",
       "liver_big          10\n",
       "liver_firm         11\n",
       "spleen_palpable     5\n",
       "spiders             5\n",
       "ascites             5\n",
       "varices             5\n",
       "bilirubin           6\n",
       "alk_phosphate      29\n",
       "sgot                4\n",
       "albumin            16\n",
       "protime            67\n",
       "histology           0\n",
       "class               0\n",
       "dtype: int64"
      ]
     },
     "execution_count": 9,
     "metadata": {},
     "output_type": "execute_result"
    }
   ],
   "source": [
    "df.isna().sum()"
   ]
  },
  {
   "cell_type": "markdown",
   "metadata": {
    "id": "RiCyhNeR1Nmi"
   },
   "source": [
    "When dealing with missing values, different alternatives can be applied:\n",
    "\n",
    "1. drop missing values\n",
    "2. replace the missing value with a value\n",
    "3. leave the missing value as it is.\n",
    "\n",
    "\n"
   ]
  },
  {
   "cell_type": "markdown",
   "metadata": {
    "id": "m_DbW2rj2UUd"
   },
   "source": [
    "### Drop Missing Values\n",
    "\n",
    "Dropping missing values can be one of the following alternatives:\n",
    "- remove rows having missing values\n",
    "- remove the whole column containing missing values\n",
    "\n",
    "We can use the dropna() by specifying the axis to be considered. If we set **axis = 0** we drop the entire **row**, if we set **axis = 1** we drop the whole **column**. \n",
    "\n",
    "If we apply the function `df.dropna(axis=0)` 80 rows of the dataset remain. If we apply the function `df.dropna(axis=1)`, only the columns age, sex, antivirals, histology and class remain. \n",
    "\n",
    "However, `removed values are not applied to the original dataframe, but only to the result!` <br>\n",
    "We can use the argument <b>inplace=True</b> in order to store changes in the original dataframe df (`df.dropna(axis=1,inplace=True`))."
   ]
  },
  {
   "cell_type": "code",
   "execution_count": 10,
   "metadata": {
    "colab": {
     "base_uri": "https://localhost:8080/"
    },
    "executionInfo": {
     "elapsed": 1530,
     "status": "ok",
     "timestamp": 1607239572752,
     "user": {
      "displayName": "Jan De Spiegeleer",
      "photoUrl": "https://lh3.googleusercontent.com/a-/AOh14Ggxxb9SxBqAv_r35BXg4rQuvrALa7N1_RqDSbwQUw=s64",
      "userId": "15176895267494237817"
     },
     "user_tz": -60
    },
    "id": "YFSwJcs62yQM",
    "outputId": "fcb22170-6999-477a-d140-3ebb33950d81"
   },
   "outputs": [
    {
     "name": "stdout",
     "output_type": "stream",
     "text": [
      "Dimensions of the dataset: (155, 20)\n",
      "Dimensions after removing columns: (155, 5)\n"
     ]
    }
   ],
   "source": [
    "print('Dimensions of the dataset:',df.shape)\n",
    "print('Dimensions after removing columns:',df.dropna(axis=1).shape)"
   ]
  },
  {
   "cell_type": "markdown",
   "metadata": {
    "id": "SZ5fb95Y4O6-"
   },
   "source": [
    "Another alternative involves the dropping of columns where a certain percentage of not-null values is available. This can be achieved through the `thresh` parameter. In the following example we keep only columns where there are at least the 80% of not null values."
   ]
  },
  {
   "cell_type": "code",
   "execution_count": 47,
   "metadata": {
    "colab": {
     "base_uri": "https://localhost:8080/"
    },
    "executionInfo": {
     "elapsed": 1524,
     "status": "ok",
     "timestamp": 1607239572753,
     "user": {
      "displayName": "Jan De Spiegeleer",
      "photoUrl": "https://lh3.googleusercontent.com/a-/AOh14Ggxxb9SxBqAv_r35BXg4rQuvrALa7N1_RqDSbwQUw=s64",
      "userId": "15176895267494237817"
     },
     "user_tz": -60
    },
    "id": "Kyr_i27F7Vo5",
    "outputId": "e561fe0d-0c01-4dff-a736-4530a8bd6c66"
   },
   "outputs": [
    {
     "data": {
      "text/plain": [
       "(155, 20)"
      ]
     },
     "execution_count": 47,
     "metadata": {},
     "output_type": "execute_result"
    }
   ],
   "source": [
    "dg = df.dropna(thresh=0.8*len(df),axis=1)\n",
    "dg.shape"
   ]
  },
  {
   "cell_type": "markdown",
   "metadata": {
    "id": "1ct8OJCF7okN"
   },
   "source": [
    "### Replace missing values\n",
    "A good strategy when dealing with missing values involves their replacement with another value. Usually, the following strategies are adopted:\n",
    "- for numerical values replace the missing value with the average value of the column\n",
    "- for categorial values replace the missing value with the most frequent value of the column\n",
    "- use other functions\n",
    "\n",
    "In order to replace missing values, several functions can be used: `fillna()`, `replace()` and `interpolate()`. \n",
    "\n",
    "The fillna() function replaces all the NaN values with the value passed as argument. For example, for numerical values, all the NaN values in the numeric columns could be replaced with the average value. Another possibility is to used the `ffill` and `bfill` method in combination with the fillna()-function.\n",
    "\n",
    "In order to list the type of a column, we can use the attribute dtypes as follows:"
   ]
  },
  {
   "cell_type": "code",
   "execution_count": 35,
   "metadata": {
    "colab": {
     "base_uri": "https://localhost:8080/"
    },
    "executionInfo": {
     "elapsed": 1519,
     "status": "ok",
     "timestamp": 1607239572754,
     "user": {
      "displayName": "Jan De Spiegeleer",
      "photoUrl": "https://lh3.googleusercontent.com/a-/AOh14Ggxxb9SxBqAv_r35BXg4rQuvrALa7N1_RqDSbwQUw=s64",
      "userId": "15176895267494237817"
     },
     "user_tz": -60
    },
    "id": "9xsOrRj88qsK",
    "outputId": "3d2f924c-50b2-4a3f-bf7a-625f444daf7b"
   },
   "outputs": [
    {
     "data": {
      "text/plain": [
       "age                  int64\n",
       "sex                 object\n",
       "steroid             object\n",
       "antivirals            bool\n",
       "fatigue             object\n",
       "malaise             object\n",
       "anorexia            object\n",
       "liver_big           object\n",
       "liver_firm          object\n",
       "spleen_palpable     object\n",
       "spiders             object\n",
       "ascites             object\n",
       "varices             object\n",
       "bilirubin          float64\n",
       "alk_phosphate      float64\n",
       "sgot               float64\n",
       "albumin            float64\n",
       "protime            float64\n",
       "histology             bool\n",
       "class               object\n",
       "dtype: object"
      ]
     },
     "execution_count": 35,
     "metadata": {},
     "output_type": "execute_result"
    }
   ],
   "source": [
    "df.dtypes"
   ]
  },
  {
   "cell_type": "markdown",
   "metadata": {
    "id": "Jy5c0aj-9Mbd"
   },
   "source": [
    "#### Numerical Columns\n",
    "In this example we are going to replace the missing values in numerical columns with the average value."
   ]
  },
  {
   "cell_type": "code",
   "execution_count": 11,
   "metadata": {
    "colab": {
     "base_uri": "https://localhost:8080/"
    },
    "executionInfo": {
     "elapsed": 1513,
     "status": "ok",
     "timestamp": 1607239572754,
     "user": {
      "displayName": "Jan De Spiegeleer",
      "photoUrl": "https://lh3.googleusercontent.com/a-/AOh14Ggxxb9SxBqAv_r35BXg4rQuvrALa7N1_RqDSbwQUw=s64",
      "userId": "15176895267494237817"
     },
     "user_tz": -60
    },
    "id": "-9SWMjBG8yGe",
    "outputId": "adb5f048-5a1c-4087-fc1f-915e4c373455"
   },
   "outputs": [
    {
     "name": "stdout",
     "output_type": "stream",
     "text": [
      "Index(['age', 'bilirubin', 'alk_phosphate', 'sgot', 'albumin', 'protime'], dtype='object')\n"
     ]
    }
   ],
   "source": [
    "import numpy as np\n",
    "numeric = df.select_dtypes(include=np.number)\n",
    "numeric_columns = numeric.columns\n",
    "print(numeric_columns)"
   ]
  },
  {
   "cell_type": "code",
   "execution_count": 12,
   "metadata": {
    "executionInfo": {
     "elapsed": 1505,
     "status": "ok",
     "timestamp": 1607239572754,
     "user": {
      "displayName": "Jan De Spiegeleer",
      "photoUrl": "https://lh3.googleusercontent.com/a-/AOh14Ggxxb9SxBqAv_r35BXg4rQuvrALa7N1_RqDSbwQUw=s64",
      "userId": "15176895267494237817"
     },
     "user_tz": -60
    },
    "id": "297jCRte9KYK"
   },
   "outputs": [],
   "source": [
    "df[numeric_columns] = df[numeric_columns].fillna(df[numeric_columns].mean())"
   ]
  },
  {
   "cell_type": "markdown",
   "metadata": {
    "id": "SZyXaSWk90hp"
   },
   "source": [
    "Check the result"
   ]
  },
  {
   "cell_type": "code",
   "execution_count": 13,
   "metadata": {
    "colab": {
     "base_uri": "https://localhost:8080/"
    },
    "executionInfo": {
     "elapsed": 1502,
     "status": "ok",
     "timestamp": 1607239572755,
     "user": {
      "displayName": "Jan De Spiegeleer",
      "photoUrl": "https://lh3.googleusercontent.com/a-/AOh14Ggxxb9SxBqAv_r35BXg4rQuvrALa7N1_RqDSbwQUw=s64",
      "userId": "15176895267494237817"
     },
     "user_tz": -60
    },
    "id": "ftx9OfmZ9VL8",
    "outputId": "fad19eca-3576-4fed-be90-08f05ce646db"
   },
   "outputs": [
    {
     "data": {
      "text/plain": [
       "age                 0\n",
       "sex                 0\n",
       "steroid             1\n",
       "antivirals          0\n",
       "fatigue             1\n",
       "malaise             1\n",
       "anorexia            1\n",
       "liver_big          10\n",
       "liver_firm         11\n",
       "spleen_palpable     5\n",
       "spiders             5\n",
       "ascites             5\n",
       "varices             5\n",
       "bilirubin           0\n",
       "alk_phosphate       0\n",
       "sgot                0\n",
       "albumin             0\n",
       "protime             0\n",
       "histology           0\n",
       "class               0\n",
       "dtype: int64"
      ]
     },
     "execution_count": 13,
     "metadata": {},
     "output_type": "execute_result"
    }
   ],
   "source": [
    "df.isna().sum()"
   ]
  },
  {
   "cell_type": "markdown",
   "metadata": {
    "id": "9gt13VIQ9gsi"
   },
   "source": [
    "#### Categorical Columns"
   ]
  },
  {
   "cell_type": "markdown",
   "metadata": {
    "id": "6G2kGMIi94vP"
   },
   "source": [
    "We note that in dtypes the categorial columns are described as objects. Thus we can select the object columns. We would like to consider only boolean columns. <br>However the object type includes also the column class, which is a string. We select all the object columns, and then we remove from them the column class. Then we can convert the type of the result to bool.MM"
   ]
  },
  {
   "cell_type": "code",
   "execution_count": 39,
   "metadata": {
    "colab": {
     "base_uri": "https://localhost:8080/"
    },
    "executionInfo": {
     "elapsed": 1495,
     "status": "ok",
     "timestamp": 1607239572755,
     "user": {
      "displayName": "Jan De Spiegeleer",
      "photoUrl": "https://lh3.googleusercontent.com/a-/AOh14Ggxxb9SxBqAv_r35BXg4rQuvrALa7N1_RqDSbwQUw=s64",
      "userId": "15176895267494237817"
     },
     "user_tz": -60
    },
    "id": "P924Ox7a-j_7",
    "outputId": "03a4c3c2-cfa3-4ee1-ae0e-2ef76d50be25"
   },
   "outputs": [
    {
     "name": "stdout",
     "output_type": "stream",
     "text": [
      "['sex', 'steroid', 'fatigue', 'malaise', 'anorexia', 'liver_big', 'liver_firm', 'spleen_palpable', 'spiders', 'ascites', 'varices']\n"
     ]
    }
   ],
   "source": [
    "boolean_columns = df.select_dtypes(include=object).columns.tolist()\n",
    "boolean_columns.remove('class')\n",
    "print(boolean_columns)\n",
    "df[boolean_columns] = df[boolean_columns].astype('bool')"
   ]
  },
  {
   "cell_type": "markdown",
   "metadata": {
    "id": "niVce2ZU-tTB"
   },
   "source": [
    "Now we can replace all the missing values for booleans with the most frequent value. We can use the mode() function to calculate the most frequent value. We use the fillna() function to replace missing values, but we could use also the replace(old_value,new_value) function.\n",
    "\n"
   ]
  },
  {
   "cell_type": "code",
   "execution_count": 44,
   "metadata": {
    "executionInfo": {
     "elapsed": 1490,
     "status": "ok",
     "timestamp": 1607239572756,
     "user": {
      "displayName": "Jan De Spiegeleer",
      "photoUrl": "https://lh3.googleusercontent.com/a-/AOh14Ggxxb9SxBqAv_r35BXg4rQuvrALa7N1_RqDSbwQUw=s64",
      "userId": "15176895267494237817"
     },
     "user_tz": -60
    },
    "id": "b_xDkEqoAF3l"
   },
   "outputs": [],
   "source": [
    "df[boolean_columns]= df[boolean_columns].fillna(df[boolean_columns].mode())"
   ]
  },
  {
   "cell_type": "code",
   "execution_count": 45,
   "metadata": {
    "colab": {
     "base_uri": "https://localhost:8080/"
    },
    "executionInfo": {
     "elapsed": 1486,
     "status": "ok",
     "timestamp": 1607239572756,
     "user": {
      "displayName": "Jan De Spiegeleer",
      "photoUrl": "https://lh3.googleusercontent.com/a-/AOh14Ggxxb9SxBqAv_r35BXg4rQuvrALa7N1_RqDSbwQUw=s64",
      "userId": "15176895267494237817"
     },
     "user_tz": -60
    },
    "id": "eMfQvdaWAJYe",
    "outputId": "701e22f0-7336-4c85-ce2e-322bcc5a66d8"
   },
   "outputs": [
    {
     "data": {
      "text/plain": [
       "age                0\n",
       "sex                0\n",
       "steroid            0\n",
       "antivirals         0\n",
       "fatigue            0\n",
       "malaise            0\n",
       "anorexia           0\n",
       "liver_big          0\n",
       "liver_firm         0\n",
       "spleen_palpable    0\n",
       "spiders            0\n",
       "ascites            0\n",
       "varices            0\n",
       "bilirubin          0\n",
       "alk_phosphate      0\n",
       "sgot               0\n",
       "albumin            0\n",
       "protime            0\n",
       "histology          0\n",
       "class              0\n",
       "dtype: int64"
      ]
     },
     "execution_count": 45,
     "metadata": {},
     "output_type": "execute_result"
    }
   ],
   "source": [
    "df.isna().sum()"
   ]
  },
  {
   "cell_type": "markdown",
   "metadata": {},
   "source": [
    "Voila ! All cleaned out !"
   ]
  },
  {
   "cell_type": "markdown",
   "metadata": {
    "id": "G8N0ostdAebA"
   },
   "source": [
    "## Data Formatting"
   ]
  },
  {
   "cell_type": "markdown",
   "metadata": {
    "id": "AArCMD8snA7I"
   },
   "source": [
    "Data formatting is the process of transforming data into a common format, which helps users to perform comparisons. An example of badly formatted data is the following:<br>\n",
    "In a dataset, the same entity is referred in the same column with different values, such as **New York** and **NY**.\n",
    "\n",
    "Firstly, import data using the pandas library and convert them into a dataframe. Through the head(10) method we print only the first 10 rows of the dataset.\n"
   ]
  },
  {
   "cell_type": "code",
   "execution_count": 17,
   "metadata": {
    "colab": {
     "base_uri": "https://localhost:8080/",
     "height": 479
    },
    "executionInfo": {
     "elapsed": 2496,
     "status": "ok",
     "timestamp": 1607239573773,
     "user": {
      "displayName": "Jan De Spiegeleer",
      "photoUrl": "https://lh3.googleusercontent.com/a-/AOh14Ggxxb9SxBqAv_r35BXg4rQuvrALa7N1_RqDSbwQUw=s64",
      "userId": "15176895267494237817"
     },
     "user_tz": -60
    },
    "id": "KI5gpcgju73c",
    "outputId": "3ea78f21-2af4-4cae-a7fc-03d5facb777e"
   },
   "outputs": [
    {
     "name": "stdout",
     "output_type": "stream",
     "text": [
      "Dimension of the dataframe: (386, 21)\n"
     ]
    },
    {
     "data": {
      "text/html": [
       "<div>\n",
       "<style scoped>\n",
       "    .dataframe tbody tr th:only-of-type {\n",
       "        vertical-align: middle;\n",
       "    }\n",
       "\n",
       "    .dataframe tbody tr th {\n",
       "        vertical-align: top;\n",
       "    }\n",
       "\n",
       "    .dataframe thead th {\n",
       "        text-align: right;\n",
       "    }\n",
       "</style>\n",
       "<table border=\"1\" class=\"dataframe\">\n",
       "  <thead>\n",
       "    <tr style=\"text-align: right;\">\n",
       "      <th></th>\n",
       "      <th>Tweet Id</th>\n",
       "      <th>Tweet URL</th>\n",
       "      <th>Tweet Posted Time (UTC)</th>\n",
       "      <th>Tweet Content</th>\n",
       "      <th>Tweet Type</th>\n",
       "      <th>Client</th>\n",
       "      <th>Retweets Received</th>\n",
       "      <th>Likes Received</th>\n",
       "      <th>Tweet Location</th>\n",
       "      <th>Tweet Language</th>\n",
       "      <th>...</th>\n",
       "      <th>Name</th>\n",
       "      <th>Username</th>\n",
       "      <th>User Bio</th>\n",
       "      <th>Verified or Non-Verified</th>\n",
       "      <th>Profile URL</th>\n",
       "      <th>Protected or Non-protected</th>\n",
       "      <th>User Followers</th>\n",
       "      <th>User Following</th>\n",
       "      <th>User Account Creation Date</th>\n",
       "      <th>Impressions</th>\n",
       "    </tr>\n",
       "  </thead>\n",
       "  <tbody>\n",
       "    <tr>\n",
       "      <th>0</th>\n",
       "      <td>\"1167429261210218497\"</td>\n",
       "      <td>https://twitter.com/animalhealthEU/status/1167...</td>\n",
       "      <td>30 Aug 2019 13:30:00</td>\n",
       "      <td>Pets change our lives &amp;amp; become a part of o...</td>\n",
       "      <td>Tweet</td>\n",
       "      <td>Twitter Ads Composer</td>\n",
       "      <td>0</td>\n",
       "      <td>4</td>\n",
       "      <td>Brussels</td>\n",
       "      <td>English</td>\n",
       "      <td>...</td>\n",
       "      <td>AnimalhealthEurope</td>\n",
       "      <td>animalhealthEU</td>\n",
       "      <td>AnimalhealthEurope represents manufacturers of...</td>\n",
       "      <td>Non-Verified</td>\n",
       "      <td>https://twitter.com/animalhealthEU</td>\n",
       "      <td>Non-Protected</td>\n",
       "      <td>3697</td>\n",
       "      <td>542</td>\n",
       "      <td>17 Dec 2012 09:14:15</td>\n",
       "      <td>7394</td>\n",
       "    </tr>\n",
       "    <tr>\n",
       "      <th>1</th>\n",
       "      <td>\"1167375334670557185\"</td>\n",
       "      <td>https://twitter.com/PennyBrohnUK/status/116737...</td>\n",
       "      <td>30 Aug 2019 09:55:43</td>\n",
       "      <td>Another spot of our #morethanmedicine bus in #...</td>\n",
       "      <td>Tweet</td>\n",
       "      <td>Twitter Web App</td>\n",
       "      <td>0</td>\n",
       "      <td>5</td>\n",
       "      <td>Pill, Bristol</td>\n",
       "      <td>English</td>\n",
       "      <td>...</td>\n",
       "      <td>Penny Brohn UK</td>\n",
       "      <td>PennyBrohnUK</td>\n",
       "      <td>We help people live well with the impact of ca...</td>\n",
       "      <td>Non-Verified</td>\n",
       "      <td>https://twitter.com/PennyBrohnUK</td>\n",
       "      <td>Non-Protected</td>\n",
       "      <td>3227</td>\n",
       "      <td>1571</td>\n",
       "      <td>15 Sep 2010 09:44:02</td>\n",
       "      <td>6454</td>\n",
       "    </tr>\n",
       "    <tr>\n",
       "      <th>2</th>\n",
       "      <td>\"1167237977615097861\"</td>\n",
       "      <td>https://twitter.com/lordbyronaf/status/1167237...</td>\n",
       "      <td>30 Aug 2019 00:49:54</td>\n",
       "      <td>What a great team ⁦@HealthSourceOH⁩ ⁦@Local12⁩...</td>\n",
       "      <td>ReTweet</td>\n",
       "      <td>Twitter for Android</td>\n",
       "      <td>0</td>\n",
       "      <td>0</td>\n",
       "      <td>Ohio, USA</td>\n",
       "      <td>English</td>\n",
       "      <td>...</td>\n",
       "      <td>Lord ByronAF</td>\n",
       "      <td>lordbyronaf</td>\n",
       "      <td>It's easier to be who you are, than it is to b...</td>\n",
       "      <td>Non-Verified</td>\n",
       "      <td>https://twitter.com/lordbyronaf</td>\n",
       "      <td>Non-Protected</td>\n",
       "      <td>7808</td>\n",
       "      <td>8617</td>\n",
       "      <td>25 Jul 2012 15:43:47</td>\n",
       "      <td>0</td>\n",
       "    </tr>\n",
       "    <tr>\n",
       "      <th>3</th>\n",
       "      <td>\"1167236897078480898\"</td>\n",
       "      <td>https://twitter.com/CountessDavis/status/11672...</td>\n",
       "      <td>30 Aug 2019 00:45:37</td>\n",
       "      <td>What a great team ⁦@HealthSourceOH⁩ ⁦@Local12⁩...</td>\n",
       "      <td>ReTweet</td>\n",
       "      <td>Twitter for Android</td>\n",
       "      <td>0</td>\n",
       "      <td>0</td>\n",
       "      <td>NaN</td>\n",
       "      <td>English</td>\n",
       "      <td>...</td>\n",
       "      <td>Lisa Countess davis</td>\n",
       "      <td>CountessDavis</td>\n",
       "      <td>I am named after @ElvisPresley daughter Lisa M...</td>\n",
       "      <td>Non-Verified</td>\n",
       "      <td>https://twitter.com/CountessDavis</td>\n",
       "      <td>Non-Protected</td>\n",
       "      <td>291</td>\n",
       "      <td>81</td>\n",
       "      <td>26 Jan 2017 18:21:42</td>\n",
       "      <td>0</td>\n",
       "    </tr>\n",
       "    <tr>\n",
       "      <th>4</th>\n",
       "      <td>\"1167228378191204353\"</td>\n",
       "      <td>https://twitter.com/Local12/status/11672283781...</td>\n",
       "      <td>30 Aug 2019 00:11:46</td>\n",
       "      <td>What a great team ⁦@HealthSourceOH⁩ ⁦@Local12⁩...</td>\n",
       "      <td>ReTweet</td>\n",
       "      <td>TweetDeck</td>\n",
       "      <td>0</td>\n",
       "      <td>0</td>\n",
       "      <td>Cincinnati, OH</td>\n",
       "      <td>English</td>\n",
       "      <td>...</td>\n",
       "      <td>Local 12/WKRC-TV</td>\n",
       "      <td>Local12</td>\n",
       "      <td>Local 12 is #Cincinnati's trusted source for b...</td>\n",
       "      <td>Verified</td>\n",
       "      <td>https://twitter.com/Local12</td>\n",
       "      <td>Non-Protected</td>\n",
       "      <td>198675</td>\n",
       "      <td>651</td>\n",
       "      <td>02 Sep 2008 20:09:44</td>\n",
       "      <td>0</td>\n",
       "    </tr>\n",
       "  </tbody>\n",
       "</table>\n",
       "<p>5 rows × 21 columns</p>\n",
       "</div>"
      ],
      "text/plain": [
       "                Tweet Id                                          Tweet URL  \\\n",
       "0  \"1167429261210218497\"  https://twitter.com/animalhealthEU/status/1167...   \n",
       "1  \"1167375334670557185\"  https://twitter.com/PennyBrohnUK/status/116737...   \n",
       "2  \"1167237977615097861\"  https://twitter.com/lordbyronaf/status/1167237...   \n",
       "3  \"1167236897078480898\"  https://twitter.com/CountessDavis/status/11672...   \n",
       "4  \"1167228378191204353\"  https://twitter.com/Local12/status/11672283781...   \n",
       "\n",
       "  Tweet Posted Time (UTC)                                      Tweet Content  \\\n",
       "0    30 Aug 2019 13:30:00  Pets change our lives &amp; become a part of o...   \n",
       "1    30 Aug 2019 09:55:43  Another spot of our #morethanmedicine bus in #...   \n",
       "2    30 Aug 2019 00:49:54  What a great team ⁦@HealthSourceOH⁩ ⁦@Local12⁩...   \n",
       "3    30 Aug 2019 00:45:37  What a great team ⁦@HealthSourceOH⁩ ⁦@Local12⁩...   \n",
       "4    30 Aug 2019 00:11:46  What a great team ⁦@HealthSourceOH⁩ ⁦@Local12⁩...   \n",
       "\n",
       "  Tweet Type                Client  Retweets Received  Likes Received  \\\n",
       "0      Tweet  Twitter Ads Composer                  0               4   \n",
       "1      Tweet       Twitter Web App                  0               5   \n",
       "2    ReTweet   Twitter for Android                  0               0   \n",
       "3    ReTweet   Twitter for Android                  0               0   \n",
       "4    ReTweet             TweetDeck                  0               0   \n",
       "\n",
       "   Tweet Location Tweet Language  ...                 Name        Username  \\\n",
       "0        Brussels        English  ...   AnimalhealthEurope  animalhealthEU   \n",
       "1   Pill, Bristol        English  ...       Penny Brohn UK    PennyBrohnUK   \n",
       "2       Ohio, USA        English  ...         Lord ByronAF     lordbyronaf   \n",
       "3             NaN        English  ...  Lisa Countess davis   CountessDavis   \n",
       "4  Cincinnati, OH        English  ...     Local 12/WKRC-TV         Local12   \n",
       "\n",
       "                                            User Bio Verified or Non-Verified  \\\n",
       "0  AnimalhealthEurope represents manufacturers of...             Non-Verified   \n",
       "1  We help people live well with the impact of ca...             Non-Verified   \n",
       "2  It's easier to be who you are, than it is to b...             Non-Verified   \n",
       "3  I am named after @ElvisPresley daughter Lisa M...             Non-Verified   \n",
       "4  Local 12 is #Cincinnati's trusted source for b...                 Verified   \n",
       "\n",
       "                          Profile URL Protected or Non-protected  \\\n",
       "0  https://twitter.com/animalhealthEU              Non-Protected   \n",
       "1    https://twitter.com/PennyBrohnUK              Non-Protected   \n",
       "2     https://twitter.com/lordbyronaf              Non-Protected   \n",
       "3   https://twitter.com/CountessDavis              Non-Protected   \n",
       "4         https://twitter.com/Local12              Non-Protected   \n",
       "\n",
       "  User Followers  User Following  User Account Creation Date Impressions  \n",
       "0           3697             542        17 Dec 2012 09:14:15        7394  \n",
       "1           3227            1571        15 Sep 2010 09:44:02        6454  \n",
       "2           7808            8617        25 Jul 2012 15:43:47           0  \n",
       "3            291              81        26 Jan 2017 18:21:42           0  \n",
       "4         198675             651        02 Sep 2008 20:09:44           0  \n",
       "\n",
       "[5 rows x 21 columns]"
      ]
     },
     "execution_count": 17,
     "metadata": {},
     "output_type": "execute_result"
    }
   ],
   "source": [
    "df = pd.read_csv('https://goz39a.s3.eu-central-1.amazonaws.com/sample_tweets/sample.csv')\n",
    "print('Dimension of the dataframe:',df.shape)\n",
    "df.head(5)"
   ]
  },
  {
   "cell_type": "markdown",
   "metadata": {
    "id": "ILNojFoc0X6e"
   },
   "source": [
    "Drop all the missing values through the dropna() function."
   ]
  },
  {
   "cell_type": "code",
   "execution_count": 18,
   "metadata": {
    "executionInfo": {
     "elapsed": 2491,
     "status": "ok",
     "timestamp": 1607239573774,
     "user": {
      "displayName": "Jan De Spiegeleer",
      "photoUrl": "https://lh3.googleusercontent.com/a-/AOh14Ggxxb9SxBqAv_r35BXg4rQuvrALa7N1_RqDSbwQUw=s64",
      "userId": "15176895267494237817"
     },
     "user_tz": -60
    },
    "id": "veRXhidfuUro"
   },
   "outputs": [],
   "source": [
    "df.dropna(how='any',inplace=True)"
   ]
  },
  {
   "cell_type": "markdown",
   "metadata": {
    "id": "St25s0cvtkhX"
   },
   "source": [
    "Examin the different Data Types"
   ]
  },
  {
   "cell_type": "code",
   "execution_count": 19,
   "metadata": {
    "colab": {
     "base_uri": "https://localhost:8080/"
    },
    "executionInfo": {
     "elapsed": 2487,
     "status": "ok",
     "timestamp": 1607239573774,
     "user": {
      "displayName": "Jan De Spiegeleer",
      "photoUrl": "https://lh3.googleusercontent.com/a-/AOh14Ggxxb9SxBqAv_r35BXg4rQuvrALa7N1_RqDSbwQUw=s64",
      "userId": "15176895267494237817"
     },
     "user_tz": -60
    },
    "id": "cAkqAuj42Pf9",
    "outputId": "df9f9940-8295-43c4-86c8-c9a5a9bc97e8"
   },
   "outputs": [
    {
     "data": {
      "text/plain": [
       "Tweet Id                      object\n",
       "Tweet URL                     object\n",
       "Tweet Posted Time (UTC)       object\n",
       "Tweet Content                 object\n",
       "Tweet Type                    object\n",
       "Client                        object\n",
       "Retweets Received              int64\n",
       "Likes Received                 int64\n",
       "Tweet Location                object\n",
       "Tweet Language                object\n",
       "User Id                       object\n",
       "Name                          object\n",
       "Username                      object\n",
       "User Bio                      object\n",
       "Verified or Non-Verified      object\n",
       "Profile URL                   object\n",
       "Protected or Non-protected    object\n",
       "User Followers                 int64\n",
       "User Following                 int64\n",
       "User Account Creation Date    object\n",
       "Impressions                    int64\n",
       "dtype: object"
      ]
     },
     "execution_count": 19,
     "metadata": {},
     "output_type": "execute_result"
    }
   ],
   "source": [
    "df.dtypes"
   ]
  },
  {
   "cell_type": "markdown",
   "metadata": {
    "id": "4U6tjFTG2XeE"
   },
   "source": [
    "Quick update on the characteristics of the `numerical` data"
   ]
  },
  {
   "cell_type": "code",
   "execution_count": 20,
   "metadata": {
    "colab": {
     "base_uri": "https://localhost:8080/",
     "height": 297
    },
    "executionInfo": {
     "elapsed": 2482,
     "status": "ok",
     "timestamp": 1607239573775,
     "user": {
      "displayName": "Jan De Spiegeleer",
      "photoUrl": "https://lh3.googleusercontent.com/a-/AOh14Ggxxb9SxBqAv_r35BXg4rQuvrALa7N1_RqDSbwQUw=s64",
      "userId": "15176895267494237817"
     },
     "user_tz": -60
    },
    "id": "J0TEFv4hnzRy",
    "outputId": "612259f1-2f2c-4781-969d-1ac388b631c1"
   },
   "outputs": [
    {
     "data": {
      "text/html": [
       "<div>\n",
       "<style scoped>\n",
       "    .dataframe tbody tr th:only-of-type {\n",
       "        vertical-align: middle;\n",
       "    }\n",
       "\n",
       "    .dataframe tbody tr th {\n",
       "        vertical-align: top;\n",
       "    }\n",
       "\n",
       "    .dataframe thead th {\n",
       "        text-align: right;\n",
       "    }\n",
       "</style>\n",
       "<table border=\"1\" class=\"dataframe\">\n",
       "  <thead>\n",
       "    <tr style=\"text-align: right;\">\n",
       "      <th></th>\n",
       "      <th>Retweets Received</th>\n",
       "      <th>Likes Received</th>\n",
       "      <th>User Followers</th>\n",
       "      <th>User Following</th>\n",
       "      <th>Impressions</th>\n",
       "    </tr>\n",
       "  </thead>\n",
       "  <tbody>\n",
       "    <tr>\n",
       "      <th>count</th>\n",
       "      <td>317.000000</td>\n",
       "      <td>317.000000</td>\n",
       "      <td>317.000000</td>\n",
       "      <td>317.000000</td>\n",
       "      <td>317.000000</td>\n",
       "    </tr>\n",
       "    <tr>\n",
       "      <th>mean</th>\n",
       "      <td>0.794953</td>\n",
       "      <td>3.195584</td>\n",
       "      <td>2748.217666</td>\n",
       "      <td>1086.637224</td>\n",
       "      <td>1222.769716</td>\n",
       "    </tr>\n",
       "    <tr>\n",
       "      <th>std</th>\n",
       "      <td>1.943564</td>\n",
       "      <td>10.137640</td>\n",
       "      <td>11563.933842</td>\n",
       "      <td>1437.933564</td>\n",
       "      <td>2496.502317</td>\n",
       "    </tr>\n",
       "    <tr>\n",
       "      <th>min</th>\n",
       "      <td>0.000000</td>\n",
       "      <td>0.000000</td>\n",
       "      <td>2.000000</td>\n",
       "      <td>4.000000</td>\n",
       "      <td>0.000000</td>\n",
       "    </tr>\n",
       "    <tr>\n",
       "      <th>25%</th>\n",
       "      <td>0.000000</td>\n",
       "      <td>0.000000</td>\n",
       "      <td>441.000000</td>\n",
       "      <td>379.000000</td>\n",
       "      <td>0.000000</td>\n",
       "    </tr>\n",
       "    <tr>\n",
       "      <th>50%</th>\n",
       "      <td>0.000000</td>\n",
       "      <td>0.000000</td>\n",
       "      <td>866.000000</td>\n",
       "      <td>542.000000</td>\n",
       "      <td>0.000000</td>\n",
       "    </tr>\n",
       "    <tr>\n",
       "      <th>75%</th>\n",
       "      <td>0.000000</td>\n",
       "      <td>1.000000</td>\n",
       "      <td>3167.000000</td>\n",
       "      <td>1123.000000</td>\n",
       "      <td>882.000000</td>\n",
       "    </tr>\n",
       "    <tr>\n",
       "      <th>max</th>\n",
       "      <td>13.000000</td>\n",
       "      <td>98.000000</td>\n",
       "      <td>198675.000000</td>\n",
       "      <td>12476.000000</td>\n",
       "      <td>12033.000000</td>\n",
       "    </tr>\n",
       "  </tbody>\n",
       "</table>\n",
       "</div>"
      ],
      "text/plain": [
       "       Retweets Received  Likes Received  User Followers  User Following  \\\n",
       "count         317.000000      317.000000      317.000000      317.000000   \n",
       "mean            0.794953        3.195584     2748.217666     1086.637224   \n",
       "std             1.943564       10.137640    11563.933842     1437.933564   \n",
       "min             0.000000        0.000000        2.000000        4.000000   \n",
       "25%             0.000000        0.000000      441.000000      379.000000   \n",
       "50%             0.000000        0.000000      866.000000      542.000000   \n",
       "75%             0.000000        1.000000     3167.000000     1123.000000   \n",
       "max            13.000000       98.000000   198675.000000    12476.000000   \n",
       "\n",
       "        Impressions  \n",
       "count    317.000000  \n",
       "mean    1222.769716  \n",
       "std     2496.502317  \n",
       "min        0.000000  \n",
       "25%        0.000000  \n",
       "50%        0.000000  \n",
       "75%      882.000000  \n",
       "max    12033.000000  "
      ]
     },
     "execution_count": 20,
     "metadata": {},
     "output_type": "execute_result"
    }
   ],
   "source": [
    "df.describe()"
   ]
  },
  {
   "cell_type": "markdown",
   "metadata": {
    "id": "r--qYbXysGOL"
   },
   "source": [
    "In our case we can convert the column Tweet Location to string by using the function astype() as follows:"
   ]
  },
  {
   "cell_type": "code",
   "execution_count": 22,
   "metadata": {
    "executionInfo": {
     "elapsed": 2477,
     "status": "ok",
     "timestamp": 1607239573776,
     "user": {
      "displayName": "Jan De Spiegeleer",
      "photoUrl": "https://lh3.googleusercontent.com/a-/AOh14Ggxxb9SxBqAv_r35BXg4rQuvrALa7N1_RqDSbwQUw=s64",
      "userId": "15176895267494237817"
     },
     "user_tz": -60
    },
    "id": "iD9cOdUa3ig7"
   },
   "outputs": [],
   "source": [
    "df['Tweet Location'] = df['Tweet Location'].astype('string')"
   ]
  },
  {
   "cell_type": "code",
   "execution_count": 23,
   "metadata": {
    "colab": {
     "base_uri": "https://localhost:8080/"
    },
    "executionInfo": {
     "elapsed": 2472,
     "status": "ok",
     "timestamp": 1607239573776,
     "user": {
      "displayName": "Jan De Spiegeleer",
      "photoUrl": "https://lh3.googleusercontent.com/a-/AOh14Ggxxb9SxBqAv_r35BXg4rQuvrALa7N1_RqDSbwQUw=s64",
      "userId": "15176895267494237817"
     },
     "user_tz": -60
    },
    "id": "pNCYpsbk3mDJ",
    "outputId": "ca1db043-6af5-4e2b-c5d2-54494e720f21"
   },
   "outputs": [
    {
     "data": {
      "text/plain": [
       "Tweet Id                      object\n",
       "Tweet URL                     object\n",
       "Tweet Posted Time (UTC)       object\n",
       "Tweet Content                 object\n",
       "Tweet Type                    object\n",
       "Client                        object\n",
       "Retweets Received              int64\n",
       "Likes Received                 int64\n",
       "Tweet Location                string\n",
       "Tweet Language                object\n",
       "User Id                       object\n",
       "Name                          object\n",
       "Username                      object\n",
       "User Bio                      object\n",
       "Verified or Non-Verified      object\n",
       "Profile URL                   object\n",
       "Protected or Non-protected    object\n",
       "User Followers                 int64\n",
       "User Following                 int64\n",
       "User Account Creation Date    object\n",
       "Impressions                    int64\n",
       "dtype: object"
      ]
     },
     "execution_count": 23,
     "metadata": {},
     "output_type": "execute_result"
    }
   ],
   "source": [
    "df.dtypes"
   ]
  },
  {
   "cell_type": "markdown",
   "metadata": {
    "id": "YMhrZuj73oQB"
   },
   "source": [
    "### Make the data homogeneous\n",
    "This aspect involves categorical and numerical data. \n",
    "- **Categorical** data should have all the same formatting style, such as lower case. For text mining applications there are other formatting interventions:\n",
    "   - stop word removal\n",
    "   - lemmatization\n",
    "   - punktuation removal\n",
    "   - ....\n",
    "- **Numerical** data should have for example the same number of digits after the point. \n",
    "\n",
    "In order to format all categorical data to lower case, we can use the following statement:"
   ]
  },
  {
   "cell_type": "code",
   "execution_count": 24,
   "metadata": {
    "colab": {
     "base_uri": "https://localhost:8080/"
    },
    "executionInfo": {
     "elapsed": 2468,
     "status": "ok",
     "timestamp": 1607239573777,
     "user": {
      "displayName": "Jan De Spiegeleer",
      "photoUrl": "https://lh3.googleusercontent.com/a-/AOh14Ggxxb9SxBqAv_r35BXg4rQuvrALa7N1_RqDSbwQUw=s64",
      "userId": "15176895267494237817"
     },
     "user_tz": -60
    },
    "id": "tNh5Wukx40_1",
    "outputId": "67f22c0d-1626-4788-ab0c-437c3f408351"
   },
   "outputs": [
    {
     "data": {
      "text/plain": [
       "0    pets change our lives &amp; become a part of o...\n",
       "1    another spot of our #morethanmedicine bus in #...\n",
       "2    what a great team ⁦@healthsourceoh⁩ ⁦@local12⁩...\n",
       "4    what a great team ⁦@healthsourceoh⁩ ⁦@local12⁩...\n",
       "5    what a great team ⁦@healthsourceoh⁩ ⁦@local12⁩...\n",
       "Name: Tweet Content, dtype: object"
      ]
     },
     "execution_count": 24,
     "metadata": {},
     "output_type": "execute_result"
    }
   ],
   "source": [
    "df['Tweet Content'] = df['Tweet Content'].str.lower()\n",
    "df.head()['Tweet Content']"
   ]
  },
  {
   "cell_type": "markdown",
   "metadata": {
    "id": "fZy8Nz0j41uU"
   },
   "source": [
    "### Different values for the same concept\n",
    "It may happen that the same concept is represented in different ways. For example, in our dataset, the column Twitter Location contains the values `Columbus,OH` and `Columbus, OH` to describe the same concept.\n",
    "<br>\n",
    "This can be seen in the table below. Here we can use the unique() function to list all the values of a column."
   ]
  },
  {
   "cell_type": "code",
   "execution_count": 25,
   "metadata": {
    "colab": {
     "base_uri": "https://localhost:8080/"
    },
    "executionInfo": {
     "elapsed": 2463,
     "status": "ok",
     "timestamp": 1607239573778,
     "user": {
      "displayName": "Jan De Spiegeleer",
      "photoUrl": "https://lh3.googleusercontent.com/a-/AOh14Ggxxb9SxBqAv_r35BXg4rQuvrALa7N1_RqDSbwQUw=s64",
      "userId": "15176895267494237817"
     },
     "user_tz": -60
    },
    "id": "1tuQWGWp5JPZ",
    "outputId": "0b9a89f1-658b-4a18-e8aa-59351be59068"
   },
   "outputs": [
    {
     "data": {
      "text/plain": [
       "<StringArray>\n",
       "[                                 'Brussels',\n",
       "                             'Pill, Bristol',\n",
       "                                 'Ohio, USA',\n",
       "                            'Cincinnati, OH',\n",
       "                                   'WKRC TV',\n",
       "                            'Scottsdale, AZ',\n",
       "                               'Columbus,OH',\n",
       "                              'Columbus, OH',\n",
       "                             'DK Diner, USA',\n",
       "                           'Minneapolis, MN',\n",
       " ...\n",
       "                           'Kampala, Uganda',\n",
       "                        'ilorin,kwara state',\n",
       "                            'Nigeria, Lagos',\n",
       "                                    'Kigali',\n",
       "                        'Towcester, England',\n",
       " 'Heart of the EU (the clue is in the name)',\n",
       "                       'South West, England',\n",
       "                                'Manchester',\n",
       "                               'Seattle, WA',\n",
       "                         'in my happy place']\n",
       "Length: 102, dtype: string"
      ]
     },
     "execution_count": 25,
     "metadata": {},
     "output_type": "execute_result"
    }
   ],
   "source": [
    "df['Tweet Location'].unique()"
   ]
  },
  {
   "cell_type": "markdown",
   "metadata": {
    "id": "Noh6vmx95MGK"
   },
   "source": [
    "In order to deal with different values representing the same concept, we should manipulate each type of error separately. For example, we can manipulate every string `Word,word` in order to insert a space after the comma and have the following output `Word, Word`. (=adding a \"space\" after the comma)\n",
    "\n",
    "For this purpose, we can define a function, called `set_pattern()` which searches for a specific pattern into a string and then it performs some replacement in the same string, if the pattern is found. \n",
    "\n",
    "In our case we search for all the patterns having the structure `Word,Word` and then we replace the `,` with `, `. Finally we return the result."
   ]
  },
  {
   "cell_type": "code",
   "execution_count": 26,
   "metadata": {
    "executionInfo": {
     "elapsed": 2457,
     "status": "ok",
     "timestamp": 1607239573779,
     "user": {
      "displayName": "Jan De Spiegeleer",
      "photoUrl": "https://lh3.googleusercontent.com/a-/AOh14Ggxxb9SxBqAv_r35BXg4rQuvrALa7N1_RqDSbwQUw=s64",
      "userId": "15176895267494237817"
     },
     "user_tz": -60
    },
    "id": "2kypa03m5jL_"
   },
   "outputs": [],
   "source": [
    "import re\n",
    "\n",
    "def set_pattern(x):\n",
    "    pattern = r'[(A-Z)]\\w+,([A-Z])\\w+'\n",
    "    res = re.match(pattern, x)\n",
    "    if res:\n",
    "        \n",
    "        x = x.replace(',', ', ')\n",
    "    return x"
   ]
  },
  {
   "cell_type": "markdown",
   "metadata": {
    "id": "Tn-CmkLO5nvZ"
   },
   "source": [
    "The function above uses regular expressions.\n",
    "Hence we had to import the regular expressions module (`re`).\n",
    "Developing an application involving texts requires a good understanding **Regular Expressions** .\n",
    "\n",
    "More [Info]('https://regex101.com/')"
   ]
  },
  {
   "cell_type": "markdown",
   "metadata": {
    "id": "E1pT9AI16DqX"
   },
   "source": [
    "Now we can apply the function to every value in the column Tweet Location. This can be achieved by using the function `apply()` combined with the operator **lambda**. We can specify that the function `apply()` must be applied to every row (through the parameter `axis = 1`) and then through the lambda operator we can select the specific row and apply it the function `set_pattern()`."
   ]
  },
  {
   "cell_type": "code",
   "execution_count": 29,
   "metadata": {
    "executionInfo": {
     "elapsed": 2453,
     "status": "ok",
     "timestamp": 1607239573779,
     "user": {
      "displayName": "Jan De Spiegeleer",
      "photoUrl": "https://lh3.googleusercontent.com/a-/AOh14Ggxxb9SxBqAv_r35BXg4rQuvrALa7N1_RqDSbwQUw=s64",
      "userId": "15176895267494237817"
     },
     "user_tz": -60
    },
    "id": "NyeqTyzi6eUV"
   },
   "outputs": [],
   "source": [
    "df['Tweet Location'] = df.apply(lambda x: set_pattern(x['Tweet Location']), axis=1)"
   ]
  },
  {
   "cell_type": "code",
   "execution_count": 30,
   "metadata": {
    "colab": {
     "base_uri": "https://localhost:8080/"
    },
    "executionInfo": {
     "elapsed": 2450,
     "status": "ok",
     "timestamp": 1607239573780,
     "user": {
      "displayName": "Jan De Spiegeleer",
      "photoUrl": "https://lh3.googleusercontent.com/a-/AOh14Ggxxb9SxBqAv_r35BXg4rQuvrALa7N1_RqDSbwQUw=s64",
      "userId": "15176895267494237817"
     },
     "user_tz": -60
    },
    "id": "Hcv-Tw2s6i3Y",
    "outputId": "9aeb0270-d766-4924-b94a-a516fd64f550"
   },
   "outputs": [
    {
     "data": {
      "text/plain": [
       "array(['Brussels', 'Pill, Bristol', 'Ohio, USA', 'Cincinnati, OH',\n",
       "       'WKRC TV', 'Scottsdale, AZ', 'Columbus, OH', 'DK Diner, USA',\n",
       "       'Minneapolis, MN'], dtype=object)"
      ]
     },
     "execution_count": 30,
     "metadata": {},
     "output_type": "execute_result"
    }
   ],
   "source": [
    "df['Tweet Location'].unique()[0:9]"
   ]
  },
  {
   "cell_type": "markdown",
   "metadata": {
    "id": "GyB8CPVz6zT8"
   },
   "source": [
    "## Data Normalisation \n",
    "\n",
    "Data Normalisation involves adjusting values measured on different scales to a common scale. When dealing with dataframes, data normalization permits to adjust values referred to different columns to a **common scale**. \n",
    "\n",
    "This operation is strongly recommended when the columns of a dataframe are considered as input features of a machine learning algorithm, because it permits to give all the features the same weight.\n",
    "\n",
    "Normalization applies only to columns containing numeric values. Five methods of normalization exist:\n",
    "\n",
    "- single feature scaling\n",
    "- min max\n",
    "- z-score\n",
    "- log scaling\n",
    "- clipping\n",
    "\n",
    "We apply each method to a single column. However, if you wanted to use each column of the dataset as input features of a machine learning algorithm, you should apply the same normalisation method to all the columns.\n",
    "\n",
    "In this notebook, we use the pandas library to perform normalization. As an alternative, you could use the preprocessing methods of the [scikit-learn]('https://scikit-learn.org/) libray. "
   ]
  },
  {
   "cell_type": "markdown",
   "metadata": {
    "id": "_Ej-tDn7-09V"
   },
   "source": [
    "Source of the data : https://epistat.wiv-isp.be/covid/<br>\n",
    "**Sciensano**, the Belgian institute for health, is responsible for the epidemiological follow-up of the COVID-19 epidemic in collaboration with its partners and other healthcare actors. \n",
    "\n",
    "The data they collected will be used in this exercise on normalisation"
   ]
  },
  {
   "cell_type": "code",
   "execution_count": 65,
   "metadata": {
    "executionInfo": {
     "elapsed": 11621,
     "status": "ok",
     "timestamp": 1607243841734,
     "user": {
      "displayName": "Jan De Spiegeleer",
      "photoUrl": "https://lh3.googleusercontent.com/a-/AOh14Ggxxb9SxBqAv_r35BXg4rQuvrALa7N1_RqDSbwQUw=s64",
      "userId": "15176895267494237817"
     },
     "user_tz": -60
    },
    "id": "ohlof__b9aPf"
   },
   "outputs": [],
   "source": [
    "df = pd.read_excel('https://goz39a.s3.eu-central-1.amazonaws.com/COVID19BE.xlsx',sheet_name='HOSP',engine='openpyxl')"
   ]
  },
  {
   "cell_type": "code",
   "execution_count": 66,
   "metadata": {
    "colab": {
     "base_uri": "https://localhost:8080/",
     "height": 204
    },
    "executionInfo": {
     "elapsed": 545,
     "status": "ok",
     "timestamp": 1607243842599,
     "user": {
      "displayName": "Jan De Spiegeleer",
      "photoUrl": "https://lh3.googleusercontent.com/a-/AOh14Ggxxb9SxBqAv_r35BXg4rQuvrALa7N1_RqDSbwQUw=s64",
      "userId": "15176895267494237817"
     },
     "user_tz": -60
    },
    "id": "kM-CDeUsMcVV",
    "outputId": "09a6a65b-a991-4ed8-faad-5342432b1655"
   },
   "outputs": [
    {
     "data": {
      "text/html": [
       "<div>\n",
       "<style scoped>\n",
       "    .dataframe tbody tr th:only-of-type {\n",
       "        vertical-align: middle;\n",
       "    }\n",
       "\n",
       "    .dataframe tbody tr th {\n",
       "        vertical-align: top;\n",
       "    }\n",
       "\n",
       "    .dataframe thead th {\n",
       "        text-align: right;\n",
       "    }\n",
       "</style>\n",
       "<table border=\"1\" class=\"dataframe\">\n",
       "  <thead>\n",
       "    <tr style=\"text-align: right;\">\n",
       "      <th></th>\n",
       "      <th>DATE</th>\n",
       "      <th>PROVINCE</th>\n",
       "      <th>REGION</th>\n",
       "      <th>NR_REPORTING</th>\n",
       "      <th>TOTAL_IN</th>\n",
       "      <th>TOTAL_IN_ICU</th>\n",
       "      <th>TOTAL_IN_RESP</th>\n",
       "      <th>TOTAL_IN_ECMO</th>\n",
       "      <th>NEW_IN</th>\n",
       "      <th>NEW_OUT</th>\n",
       "    </tr>\n",
       "  </thead>\n",
       "  <tbody>\n",
       "    <tr>\n",
       "      <th>0</th>\n",
       "      <td>2020-03-15</td>\n",
       "      <td>Antwerpen</td>\n",
       "      <td>Flanders</td>\n",
       "      <td>14</td>\n",
       "      <td>50</td>\n",
       "      <td>9</td>\n",
       "      <td>4</td>\n",
       "      <td>0</td>\n",
       "      <td>8</td>\n",
       "      <td>8</td>\n",
       "    </tr>\n",
       "    <tr>\n",
       "      <th>1</th>\n",
       "      <td>2020-03-15</td>\n",
       "      <td>Brussels</td>\n",
       "      <td>Brussels</td>\n",
       "      <td>14</td>\n",
       "      <td>58</td>\n",
       "      <td>11</td>\n",
       "      <td>8</td>\n",
       "      <td>0</td>\n",
       "      <td>7</td>\n",
       "      <td>2</td>\n",
       "    </tr>\n",
       "    <tr>\n",
       "      <th>2</th>\n",
       "      <td>2020-03-15</td>\n",
       "      <td>Hainaut</td>\n",
       "      <td>Wallonia</td>\n",
       "      <td>15</td>\n",
       "      <td>56</td>\n",
       "      <td>13</td>\n",
       "      <td>11</td>\n",
       "      <td>1</td>\n",
       "      <td>26</td>\n",
       "      <td>1</td>\n",
       "    </tr>\n",
       "    <tr>\n",
       "      <th>3</th>\n",
       "      <td>2020-03-15</td>\n",
       "      <td>Limburg</td>\n",
       "      <td>Flanders</td>\n",
       "      <td>7</td>\n",
       "      <td>20</td>\n",
       "      <td>6</td>\n",
       "      <td>3</td>\n",
       "      <td>0</td>\n",
       "      <td>9</td>\n",
       "      <td>3</td>\n",
       "    </tr>\n",
       "    <tr>\n",
       "      <th>4</th>\n",
       "      <td>2020-03-15</td>\n",
       "      <td>Liège</td>\n",
       "      <td>Wallonia</td>\n",
       "      <td>12</td>\n",
       "      <td>22</td>\n",
       "      <td>2</td>\n",
       "      <td>1</td>\n",
       "      <td>0</td>\n",
       "      <td>4</td>\n",
       "      <td>1</td>\n",
       "    </tr>\n",
       "  </tbody>\n",
       "</table>\n",
       "</div>"
      ],
      "text/plain": [
       "        DATE   PROVINCE    REGION  NR_REPORTING  TOTAL_IN  TOTAL_IN_ICU  \\\n",
       "0 2020-03-15  Antwerpen  Flanders            14        50             9   \n",
       "1 2020-03-15   Brussels  Brussels            14        58            11   \n",
       "2 2020-03-15    Hainaut  Wallonia            15        56            13   \n",
       "3 2020-03-15    Limburg  Flanders             7        20             6   \n",
       "4 2020-03-15      Liège  Wallonia            12        22             2   \n",
       "\n",
       "   TOTAL_IN_RESP  TOTAL_IN_ECMO  NEW_IN  NEW_OUT  \n",
       "0              4              0       8        8  \n",
       "1              8              0       7        2  \n",
       "2             11              1      26        1  \n",
       "3              3              0       9        3  \n",
       "4              1              0       4        1  "
      ]
     },
     "execution_count": 66,
     "metadata": {},
     "output_type": "execute_result"
    }
   ],
   "source": [
    "df.head()"
   ]
  },
  {
   "cell_type": "markdown",
   "metadata": {
    "id": "s054DSKCM3l0"
   },
   "source": [
    "Description of the data:\n",
    "- DATE Date of data collection\n",
    "- PROVINCE Province of reporting hospitals (including Brussels)\n",
    "- REGION Region of reporting hospitals\n",
    "- NR_REPORTING Number of hospitals reporting\n",
    "- TOTAL_IN Total number of lab-confirmed hospitalized patients at the moment of reporting\n",
    "(prevalence)\n",
    "- TOTAL_IN_ICU Total number of lab-confirmed hospitalized patients in ICU at the moment of reporting (prevalence)\n",
    "- TOTAL_IN_RESP Total number of lab-confirmed hospitalized patients under respiratory support at the moment of reporting (prevalence)\n",
    "- TOTAL_IN_ECMO Total number of lab-confirmed hospitalized patients on ECMO at the moment\n",
    "of reporting (prevalence)\n",
    "- NEW_IN Number of new lab-confirmed hospital intakes in the last 24h (incidence) not\n",
    "referred to another hospital\n",
    "- NEW_OUT Number of new lab-confirmed hospital discharges (alive) in the last 24h\n",
    "(incidence) not referred to another hospita"
   ]
  },
  {
   "cell_type": "code",
   "execution_count": 67,
   "metadata": {
    "colab": {
     "base_uri": "https://localhost:8080/"
    },
    "executionInfo": {
     "elapsed": 543,
     "status": "ok",
     "timestamp": 1607243842599,
     "user": {
      "displayName": "Jan De Spiegeleer",
      "photoUrl": "https://lh3.googleusercontent.com/a-/AOh14Ggxxb9SxBqAv_r35BXg4rQuvrALa7N1_RqDSbwQUw=s64",
      "userId": "15176895267494237817"
     },
     "user_tz": -60
    },
    "id": "iRECTaShMqmm",
    "outputId": "cb3ef399-de49-4af9-fb4c-15aead2680c6"
   },
   "outputs": [
    {
     "data": {
      "text/plain": [
       "DATE             datetime64[ns]\n",
       "PROVINCE                 object\n",
       "REGION                   object\n",
       "NR_REPORTING              int64\n",
       "TOTAL_IN                  int64\n",
       "TOTAL_IN_ICU              int64\n",
       "TOTAL_IN_RESP             int64\n",
       "TOTAL_IN_ECMO             int64\n",
       "NEW_IN                    int64\n",
       "NEW_OUT                   int64\n",
       "dtype: object"
      ]
     },
     "execution_count": 67,
     "metadata": {},
     "output_type": "execute_result"
    }
   ],
   "source": [
    "df.dtypes"
   ]
  },
  {
   "cell_type": "markdown",
   "metadata": {
    "id": "3PS1XmMaMrdj"
   },
   "source": [
    "#### Single Feature Scaling\n",
    "Single Feature Scaling converts every value of a column into a number between 0 and 1. \n",
    "\n",
    "The new value is calculated as the current value divided by the max value of the column. For example, if we consider the column tamponi, we can apply the single feature scaling by applying to the column the function max(), whic calculates the maximum value of the column:"
   ]
  },
  {
   "cell_type": "code",
   "execution_count": 68,
   "metadata": {
    "executionInfo": {
     "elapsed": 537,
     "status": "ok",
     "timestamp": 1607244242118,
     "user": {
      "displayName": "Jan De Spiegeleer",
      "photoUrl": "https://lh3.googleusercontent.com/a-/AOh14Ggxxb9SxBqAv_r35BXg4rQuvrALa7N1_RqDSbwQUw=s64",
      "userId": "15176895267494237817"
     },
     "user_tz": -60
    },
    "id": "qFzYXftqOFjS"
   },
   "outputs": [],
   "source": [
    "df['NEW_IN'] = df['NEW_IN']/df['NEW_IN'].max()"
   ]
  },
  {
   "cell_type": "markdown",
   "metadata": {
    "id": "oQuIVJTzONp4"
   },
   "source": [
    "#### Min Max\n",
    "Similarly to Single Feature Scaling, Min Max converts every value of a column into a number between 0 and 1. \n",
    "\n",
    "The new value is calculated as the difference between the current value and the min value, divided by the range of the column values. For example, we can apply the min max method to the column NEW_OUT."
   ]
  },
  {
   "cell_type": "code",
   "execution_count": 69,
   "metadata": {
    "executionInfo": {
     "elapsed": 563,
     "status": "ok",
     "timestamp": 1607244355654,
     "user": {
      "displayName": "Jan De Spiegeleer",
      "photoUrl": "https://lh3.googleusercontent.com/a-/AOh14Ggxxb9SxBqAv_r35BXg4rQuvrALa7N1_RqDSbwQUw=s64",
      "userId": "15176895267494237817"
     },
     "user_tz": -60
    },
    "id": "9HcXq716Odf1"
   },
   "outputs": [],
   "source": [
    "df['NEW_OUT'] = (df['NEW_OUT'] - df['NEW_OUT'].min())/(df['NEW_OUT'].max() - df['NEW_OUT'].min())"
   ]
  },
  {
   "cell_type": "markdown",
   "metadata": {
    "id": "Br5O1CI1OpXQ"
   },
   "source": [
    "#### Z-score\n",
    "Z-Score converts every value of a column into a number around 0. Typical values obtained by a z-score transformation range from -3 and 3. The new value is calculated as the difference between the current value and the average value, divided by the standard deviation. \n",
    "\n",
    "The average value of a column can be obtained through the `mean()` function, while the standard deviation through the `std()` function. For example, we can calculate the z-score of the column TOTAL_IN."
   ]
  },
  {
   "cell_type": "code",
   "execution_count": 70,
   "metadata": {
    "executionInfo": {
     "elapsed": 537,
     "status": "ok",
     "timestamp": 1607244456498,
     "user": {
      "displayName": "Jan De Spiegeleer",
      "photoUrl": "https://lh3.googleusercontent.com/a-/AOh14Ggxxb9SxBqAv_r35BXg4rQuvrALa7N1_RqDSbwQUw=s64",
      "userId": "15176895267494237817"
     },
     "user_tz": -60
    },
    "id": "Uz-R-zD9O5Wm"
   },
   "outputs": [],
   "source": [
    "df['TOTAL_IN'] = (df['TOTAL_IN']-df['TOTAL_IN'].mean())/df['TOTAL_IN'].std()"
   ]
  },
  {
   "cell_type": "code",
   "execution_count": 71,
   "metadata": {
    "colab": {
     "base_uri": "https://localhost:8080/",
     "height": 204
    },
    "executionInfo": {
     "elapsed": 632,
     "status": "ok",
     "timestamp": 1607244461366,
     "user": {
      "displayName": "Jan De Spiegeleer",
      "photoUrl": "https://lh3.googleusercontent.com/a-/AOh14Ggxxb9SxBqAv_r35BXg4rQuvrALa7N1_RqDSbwQUw=s64",
      "userId": "15176895267494237817"
     },
     "user_tz": -60
    },
    "id": "WfKziiQoPB_t",
    "outputId": "53cf6bda-078f-4099-a824-b3e29d4806a2"
   },
   "outputs": [
    {
     "data": {
      "text/html": [
       "<div>\n",
       "<style scoped>\n",
       "    .dataframe tbody tr th:only-of-type {\n",
       "        vertical-align: middle;\n",
       "    }\n",
       "\n",
       "    .dataframe tbody tr th {\n",
       "        vertical-align: top;\n",
       "    }\n",
       "\n",
       "    .dataframe thead th {\n",
       "        text-align: right;\n",
       "    }\n",
       "</style>\n",
       "<table border=\"1\" class=\"dataframe\">\n",
       "  <thead>\n",
       "    <tr style=\"text-align: right;\">\n",
       "      <th></th>\n",
       "      <th>DATE</th>\n",
       "      <th>PROVINCE</th>\n",
       "      <th>REGION</th>\n",
       "      <th>NR_REPORTING</th>\n",
       "      <th>TOTAL_IN</th>\n",
       "      <th>TOTAL_IN_ICU</th>\n",
       "      <th>TOTAL_IN_RESP</th>\n",
       "      <th>TOTAL_IN_ECMO</th>\n",
       "      <th>NEW_IN</th>\n",
       "      <th>NEW_OUT</th>\n",
       "    </tr>\n",
       "  </thead>\n",
       "  <tbody>\n",
       "    <tr>\n",
       "      <th>0</th>\n",
       "      <td>2020-03-15</td>\n",
       "      <td>Antwerpen</td>\n",
       "      <td>Flanders</td>\n",
       "      <td>14</td>\n",
       "      <td>-0.536642</td>\n",
       "      <td>9</td>\n",
       "      <td>4</td>\n",
       "      <td>0</td>\n",
       "      <td>0.045198</td>\n",
       "      <td>0.058824</td>\n",
       "    </tr>\n",
       "    <tr>\n",
       "      <th>1</th>\n",
       "      <td>2020-03-15</td>\n",
       "      <td>Brussels</td>\n",
       "      <td>Brussels</td>\n",
       "      <td>14</td>\n",
       "      <td>-0.506847</td>\n",
       "      <td>11</td>\n",
       "      <td>8</td>\n",
       "      <td>0</td>\n",
       "      <td>0.039548</td>\n",
       "      <td>0.014706</td>\n",
       "    </tr>\n",
       "    <tr>\n",
       "      <th>2</th>\n",
       "      <td>2020-03-15</td>\n",
       "      <td>Hainaut</td>\n",
       "      <td>Wallonia</td>\n",
       "      <td>15</td>\n",
       "      <td>-0.514295</td>\n",
       "      <td>13</td>\n",
       "      <td>11</td>\n",
       "      <td>1</td>\n",
       "      <td>0.146893</td>\n",
       "      <td>0.007353</td>\n",
       "    </tr>\n",
       "    <tr>\n",
       "      <th>3</th>\n",
       "      <td>2020-03-15</td>\n",
       "      <td>Limburg</td>\n",
       "      <td>Flanders</td>\n",
       "      <td>7</td>\n",
       "      <td>-0.648373</td>\n",
       "      <td>6</td>\n",
       "      <td>3</td>\n",
       "      <td>0</td>\n",
       "      <td>0.050847</td>\n",
       "      <td>0.022059</td>\n",
       "    </tr>\n",
       "    <tr>\n",
       "      <th>4</th>\n",
       "      <td>2020-03-15</td>\n",
       "      <td>Liège</td>\n",
       "      <td>Wallonia</td>\n",
       "      <td>12</td>\n",
       "      <td>-0.640925</td>\n",
       "      <td>2</td>\n",
       "      <td>1</td>\n",
       "      <td>0</td>\n",
       "      <td>0.022599</td>\n",
       "      <td>0.007353</td>\n",
       "    </tr>\n",
       "  </tbody>\n",
       "</table>\n",
       "</div>"
      ],
      "text/plain": [
       "        DATE   PROVINCE    REGION  NR_REPORTING  TOTAL_IN  TOTAL_IN_ICU  \\\n",
       "0 2020-03-15  Antwerpen  Flanders            14 -0.536642             9   \n",
       "1 2020-03-15   Brussels  Brussels            14 -0.506847            11   \n",
       "2 2020-03-15    Hainaut  Wallonia            15 -0.514295            13   \n",
       "3 2020-03-15    Limburg  Flanders             7 -0.648373             6   \n",
       "4 2020-03-15      Liège  Wallonia            12 -0.640925             2   \n",
       "\n",
       "   TOTAL_IN_RESP  TOTAL_IN_ECMO    NEW_IN   NEW_OUT  \n",
       "0              4              0  0.045198  0.058824  \n",
       "1              8              0  0.039548  0.014706  \n",
       "2             11              1  0.146893  0.007353  \n",
       "3              3              0  0.050847  0.022059  \n",
       "4              1              0  0.022599  0.007353  "
      ]
     },
     "execution_count": 71,
     "metadata": {},
     "output_type": "execute_result"
    }
   ],
   "source": [
    "df.head()"
   ]
  },
  {
   "cell_type": "markdown",
   "metadata": {
    "id": "nC9xC9YrPDKN"
   },
   "source": [
    "#### Log Scaling\n",
    "Log Scaling involves the conversion of a column to the logarithmic scale. If we want to use the **natural logarithm**, we can use the `log()` function of the numpy library. For example, we can apply log scaling to the column TOTAL_IN_ICU. \n",
    "\n",
    "We must deal with log(0) because it does not exist. We use the lambda operator to select the single rows of the column."
   ]
  },
  {
   "cell_type": "code",
   "execution_count": 72,
   "metadata": {
    "executionInfo": {
     "elapsed": 664,
     "status": "ok",
     "timestamp": 1607244637212,
     "user": {
      "displayName": "Jan De Spiegeleer",
      "photoUrl": "https://lh3.googleusercontent.com/a-/AOh14Ggxxb9SxBqAv_r35BXg4rQuvrALa7N1_RqDSbwQUw=s64",
      "userId": "15176895267494237817"
     },
     "user_tz": -60
    },
    "id": "BZAvO2ryPg0W"
   },
   "outputs": [],
   "source": [
    "import numpy as np\n",
    "\n",
    "df['TOTAL_IN_ICU'] = df['TOTAL_IN_ICU'].apply(lambda x: np.log(x) if x != 0 else 0)"
   ]
  },
  {
   "cell_type": "markdown",
   "metadata": {
    "id": "9p7tkjUEPmpE"
   },
   "source": [
    "#### Clipping\n",
    "Clipping involves the capping of all values below or above a certain value. Clipping is useful when a column contains some outliers. \n",
    "\n",
    "We can set a maximum `vmax` and a minimum value `vmin` and set all outliers greater than the maximum value to vmax and all the outliers lower than the minimum value to vmin.\n"
   ]
  },
  {
   "cell_type": "code",
   "execution_count": null,
   "metadata": {},
   "outputs": [],
   "source": []
  }
 ],
 "metadata": {
  "colab": {
   "authorship_tag": "ABX9TyMLRwTwok0dGO2jrjGy0o1k",
   "name": "Data Preprocessing with Pandas",
   "provenance": []
  },
  "kernelspec": {
   "display_name": "Python 3 (ipykernel)",
   "language": "python",
   "name": "python3"
  },
  "language_info": {
   "codemirror_mode": {
    "name": "ipython",
    "version": 3
   },
   "file_extension": ".py",
   "mimetype": "text/x-python",
   "name": "python",
   "nbconvert_exporter": "python",
   "pygments_lexer": "ipython3",
   "version": "3.9.7"
  },
  "toc": {
   "base_numbering": 1,
   "nav_menu": {},
   "number_sections": true,
   "sideBar": true,
   "skip_h1_title": false,
   "title_cell": "Table of Contents",
   "title_sidebar": "Contents",
   "toc_cell": false,
   "toc_position": {},
   "toc_section_display": true,
   "toc_window_display": false
  },
  "varInspector": {
   "cols": {
    "lenName": 16,
    "lenType": 16,
    "lenVar": 40
   },
   "kernels_config": {
    "python": {
     "delete_cmd_postfix": "",
     "delete_cmd_prefix": "del ",
     "library": "var_list.py",
     "varRefreshCmd": "print(var_dic_list())"
    },
    "r": {
     "delete_cmd_postfix": ") ",
     "delete_cmd_prefix": "rm(",
     "library": "var_list.r",
     "varRefreshCmd": "cat(var_dic_list()) "
    }
   },
   "types_to_exclude": [
    "module",
    "function",
    "builtin_function_or_method",
    "instance",
    "_Feature"
   ],
   "window_display": false
  }
 },
 "nbformat": 4,
 "nbformat_minor": 1
}
